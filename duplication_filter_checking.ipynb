{
 "cells": [
  {
   "cell_type": "code",
   "execution_count": 15,
   "id": "541ce3d9",
   "metadata": {},
   "outputs": [
    {
     "name": "stdout",
     "output_type": "stream",
     "text": [
      "Done\n"
     ]
    }
   ],
   "source": [
    "import ROOT as r\n",
    "from array import array\n",
    "\n",
    "print(\"Done\")"
   ]
  },
  {
   "cell_type": "code",
   "execution_count": null,
   "id": "98b9a702",
   "metadata": {},
   "outputs": [],
   "source": [
    "# === Output file and tree ===\n",
    "output_file = ROOT.TFile(\"test_duplicates.root\", \"RECREATE\")\n",
    "tree = ROOT.TTree(\"ST-b2cc\", \"Test Tree with duplicate events\")\n",
    "\n",
    "# === Buffers ===\n",
    "bp_p_buf = array('f', [0])   # Float_t\n",
    "event_buf = array('Q', [0])  # ULong64_t\n",
    "\n",
    "tree.Branch(\"Bp_P\", bp_p_buf, \"Bp_P/F\")\n",
    "tree.Branch(\"event\", event_buf, \"event/l\")\n",
    "\n",
    "# === Data to insert ===\n",
    "data = [\n",
    "    # Event 1121654010\n",
    "    (1121654010, [139387.8125, 135842.546875, 119004.640625, 111138.6875, 138274.65625]),\n",
    "\n",
    "    # Event 19726357590\n",
    "    (19726357590, [\n",
    "        127264.421875, 121160.2578125, 127050.9453125, 120945.6796875,\n",
    "        121916.0703125, 115807.109375, 121702.2890625, 115592.078125,\n",
    "        122707.90625, 122491.2265625, 117349.453125, 117132.59375\n",
    "    ])\n",
    "]\n",
    "\n",
    "# === Fill tree ===\n",
    "for event_id, bp_p_list in data:\n",
    "    for val in bp_p_list:\n",
    "        event_buf[0] = event_id\n",
    "        bp_p_buf[0] = val\n",
    "        tree.Fill()\n",
    "\n",
    "# === Write to file ===\n",
    "tree.Write()\n",
    "output_file.Close()\n",
    "\n",
    "print(\"✅ test_duplicates.root written with 17 entries.\")\n"
   ]
  },
  {
   "cell_type": "code",
   "execution_count": 24,
   "id": "b8c9e6bd",
   "metadata": {
    "scrolled": true
   },
   "outputs": [
    {
     "name": "stdout",
     "output_type": "stream",
     "text": [
      "139387.8125\n",
      "135842.546875\n",
      "119004.640625\n",
      "111138.6875\n",
      "138274.65625\n",
      "127264.421875\n",
      "121160.2578125\n",
      "127050.9453125\n",
      "120945.6796875\n",
      "121916.0703125\n",
      "115807.109375\n",
      "121702.2890625\n",
      "115592.078125\n",
      "122707.90625\n",
      "122491.2265625\n",
      "117349.453125\n"
     ]
    }
   ],
   "source": [
    "#Check some entries in some branch\n",
    "\n",
    "filename = \"test_duplicates.root\"\n",
    "file = r.TFile.Open(filename)\n",
    "tree = file.Get(\"ST-b2cc\") #or st-b2oc\n",
    "\n",
    "entries = range(0, 16)\n",
    "\n",
    "for entry in entries:\n",
    "    tree.GetEntry(entry)\n",
    "    print(tree.Bp_P)"
   ]
  },
  {
   "cell_type": "code",
   "execution_count": null,
   "id": "2381aa3d",
   "metadata": {},
   "outputs": [],
   "source": []
  }
 ],
 "metadata": {
  "kernelspec": {
   "display_name": "Python 3",
   "language": "python",
   "name": "python3"
  },
  "language_info": {
   "codemirror_mode": {
    "name": "ipython",
    "version": 3
   },
   "file_extension": ".py",
   "mimetype": "text/x-python",
   "name": "python",
   "nbconvert_exporter": "python",
   "pygments_lexer": "ipython3",
   "version": "3.11.9"
  }
 },
 "nbformat": 4,
 "nbformat_minor": 5
}
