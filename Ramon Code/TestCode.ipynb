{
 "cells": [
  {
   "cell_type": "code",
   "execution_count": 1,
   "id": "8c9a6c11-537e-47e9-baa1-1833397c3b2d",
   "metadata": {},
   "outputs": [
    {
     "name": "stdout",
     "output_type": "stream",
     "text": [
      "Welcome to JupyROOT 6.28/12\n",
      "6.28/12\n"
     ]
    }
   ],
   "source": [
    "import ROOT\n",
    "print(ROOT.__version__)"
   ]
  },
  {
   "cell_type": "code",
   "execution_count": null,
   "id": "65b275bd-87ae-4bd8-9fb6-6c3e754d1c63",
   "metadata": {},
   "outputs": [],
   "source": [
    "\n",
    "\n",
    "import ROOT as r\n",
    "import numpy as np\n",
    "import matplotlib.pyplot as plt\n",
    "import math\n",
    "from ROOT import RooFit\n",
    "from ROOT import TChain\n",
    "from ROOT import RooStats\n",
    "from datetime import datetime\n",
    "from uncertainties import ufloat\n",
    "from scipy.optimize import curve_fit\n",
    "\n",
    "plt.rcParams['figure.dpi'] = 300\n",
    "plt.rcParams['savefig.dpi'] = 300\n",
    "\n",
    "%jsroot on\n",
    "\n",
    "c = r.TCanvas()"
   ]
  },
  {
   "cell_type": "code",
   "execution_count": 2,
   "id": "c99ed4b7-15fb-4059-8f95-2bba236cf8f8",
   "metadata": {
    "scrolled": true
   },
   "outputs": [
    {
     "data": {
      "text/plain": [
       "2"
      ]
     },
     "execution_count": 2,
     "metadata": {},
     "output_type": "execute_result"
    }
   ],
   "source": [
    "# import the data\n",
    "tree = TChain(\"ST-b2oc\")\n",
    "tree.Add(\"00266897_0000000*_1.highmult_2024-Friend-B2OC-W4042-DOWN.root\") # path to MC data\n",
    "\n",
    "\n",
    "\n",
    "# plotting the mass\n",
    "# tree.Draw(\"Bp_DTF_OwnPV_MASS\", \"Bp_DTF_OwnPV_MASS < 5950\", \"logy\")\n",
    "# c.Draw()"
   ]
  },
  {
   "cell_type": "code",
   "execution_count": null,
   "id": "cbf0e932-31d1-4fbc-8250-d73f80207ca0",
   "metadata": {},
   "outputs": [],
   "source": [
    "# Add debug to this code to see which step is taking the most time\n",
    "\n",
    "# create a RooRealVar for the observable to fit\n",
    "x = r.RooRealVar(\"Bp_DTF_OwnPV_MASS\", \"Bp_DTF_OwnPV_MASS\", 4900, 5950)\n",
    "\n",
    "# convert the data to RooDataSet\n",
    "print(f\"Start RooDataSet creation: {datetime.now()}\")\n",
    "data = r.RooDataSet(\"data\", \"dataset from tree\", r.RooArgSet(x), r.RooFit.Import(tree))\n",
    "print(f\"End RooDataSet creation: {datetime.now()}\")\n",
    "\n",
    "# create the pdfs\n",
    "mean = r.RooRealVar(\"mean\", \"mean\", 5278.46, 5250, 5300)\n",
    "print(\"yo\")\n",
    "\n",
    "alpha = r.RooRealVar(\"alpha\", \"alpha\", 1.25015, 1, 2)\n",
    "n = r.RooRealVar(\"n\", \"n\", 2.40748, 0.5, 5)\n",
    "cb_sigma = r.RooRealVar(\"cb_sigma\", \"cb_sigma\", 25.7691, 20, 30)\n",
    "crystal_ball = r.RooCBShape(\"crystal_ball\", \"Crystal ball PDF\", x, mean, cb_sigma, alpha, n)\n",
    "\n",
    "tau = r.RooRealVar(\"tau\", \"Decay constant\", -0.00219122, -1, 0)\n",
    "background = r.RooExponential(\"background\", \"Exponential background\", x, tau)\n",
    "\n",
    "alpha_2 = r.RooRealVar(\"alpha2\", \"alpha2\", -2.2701, -20, -0.01)\n",
    "n_2 = r.RooRealVar(\"n2\", \"n2\", 2.47972, 0.05, 50)\n",
    "cb_sigma_2 = r.RooRealVar(\"cb_sigma2\", \"cb_sigma2\", 12.7184, 5, 20)\n",
    "crystal_ball_2 = r.RooCBShape(\"crystal_ball2\", \"Crystal ball PDF 2\", x, mean, cb_sigma_2, alpha_2, n_2)\n",
    "\n",
    "# combine the pdfs\n",
    "\n",
    "\n",
    "frac_cb_2 = r.RooRealVar(\"frac_cb_2\", \"Fraction of crystal ball 2\", 0.5, 0.0, 1.0)\n",
    "frac_background = r.RooRealVar(\"frac_background\", \"Fraction of background\", 0.2, 0.15, 0.25)\n",
    "combined_pdf = r.RooAddPdf(\"combined_pdf\", \"Gaussian + crystal ball + background\",\n",
    "                           r.RooArgList(crystal_ball_2, crystal_ball, background),\n",
    "                           r.RooArgList(frac_cb_2, frac_background))\n",
    "\n",
    "# lock variables\n",
    "mean.setConstant(True)\n",
    "alpha.setConstant(False)\n",
    "n.setConstant(False)\n",
    "cb_sigma.setConstant(False)\n",
    "tau.setConstant(True)\n",
    "alpha_2.setConstant(False)\n",
    "n_2.setConstant(False)\n",
    "cb_sigma_2.setConstant(False)\n",
    "frac_background.setConstant(False)\n",
    "\n",
    "# #fit to the data and plot
",
    "print(f\"Start fitTo: {datetime.now()}\")\n",
    "combined_pdf.fitTo(data, RooFit.PrintLevel(1), r.RooFit.Import(tree))\n",
    "print(f\"End fitTo: {datetime.now()}\")\n",
    "\n",
    "frame = x.frame(RooFit.Title(\"2 crystal ball fit, B^{+} #rightarrow #bar{D}^{0}#pi^{+} Monte Carlo B^{+} mass\"))\n",
    "data.plotOn(frame)\n",
    "combined_pdf.plotOn(frame)\n",
    "combined_pdf.plotOn(frame, RooFit.Components(crystal_ball), RooFit.LineStyle(r.kDashed))\n",
    "combined_pdf.plotOn(frame, RooFit.Components(crystal_ball_2), RooFit.LineStyle(r.kDashed), RooFit.LineColor(r.kRed))\n",
    "combined_pdf.plotOn(frame, RooFit.Components(background), RooFit.LineStyle(r.kDashed), RooFit.LineColor(r.kGreen))\n",
    "\n",
    "canvas = r.TCanvas(\"canvas\", \"2 crystal ball fit\", 800, 600)\n",
    "frame.Draw()\n",
    "canvas.SetLogy()\n",
    "frame.GetXaxis().SetTitle(\"Mass (MeV/c^{2})\")\n",
    "frame.SetMinimum(0.3)\n",
    "canvas.Draw()\n",
    "\n",
    "\n"
   ]
  },
  {
   "cell_type": "code",
   "execution_count": 4,
   "id": "eac7b1c0-1933-4774-bf9f-2511ea64f8d9",
   "metadata": {},
   "outputs": [
    {
     "name": "stdout",
     "output_type": "stream",
     "text": [
      "RooRealVar::Bp_DTF_OwnPV_MASS = 5425  L(4900 - 5950) \n",
      " RooRealVar::mean = 5278.46 C  L(5250 - 5300) \n",
      " RooRealVar::cb_sigma = 25.7691  L(20 - 30) \n",
      " RooRealVar::alpha = 1.25015  L(1 - 2) \n",
      " RooRealVar::n = 2.40748  L(0.5 - 5) \n",
      " RooRealVar::tau = -0.00219122 C  L(-1 - 0) \n",
      " RooRealVar::alpha2 = -2.2701  L(-20 - -0.01) \n",
      " RooRealVar::n2 = 2.47972  L(0.05 - 50) \n",
      " RooRealVar::cb_sigma2 = 12.7184  L(5 - 20) \n",
      " RooRealVar::frac_cb_2 = 0.5  L(0 - 1) \n",
      " RooRealVar::frac_background = 0.2  L(0.15 - 0.25) \n",
      "\n"
     ]
    }
   ],
   "source": [
    "print(x, mean, cb_sigma, alpha, n, tau, alpha_2, n_2, cb_sigma_2, frac_cb_2, frac_background)"
   ]
  },
  {
   "cell_type": "code",
   "execution_count": null,
   "id": "cb9ab1fd-1025-44c1-8d7e-df070a72da42",
   "metadata": {},
   "outputs": [],
   "source": []
  }
 ],
 "metadata": {
  "kernelspec": {
   "display_name": "ramon_env",
   "language": "python",
   "name": "python3"
  },
  "language_info": {
   "codemirror_mode": {
    "name": "ipython",
    "version": 3
   },
   "file_extension": ".py",
   "mimetype": "text/x-python",
   "name": "python",
   "nbconvert_exporter": "python",
   "pygments_lexer": "ipython3",
   "version": "3.9.23"
  }
 },
 "nbformat": 4,
 "nbformat_minor": 5
}
