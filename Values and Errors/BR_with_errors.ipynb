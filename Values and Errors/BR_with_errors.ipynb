{
 "cells": [
  {
   "cell_type": "code",
   "execution_count": null,
   "id": "ff999313",
   "metadata": {},
   "outputs": [],
   "source": []
  },
  {
   "cell_type": "code",
   "execution_count": 1,
   "id": "9de3295d",
   "metadata": {},
   "outputs": [
    {
     "name": "stdout",
     "output_type": "stream",
     "text": [
      "Branching Ratio: 3.4516171636979496 ± 0.0438268676468356 ± 0.03317793070500159\n"
     ]
    }
   ],
   "source": [
    "import numpy as np\n",
    "\n",
    "# === INPUTS (EDITABLE) ===\n",
    "# Format: np.array([value, error])\n",
    "\n",
    "# Yields\n",
    "Y_dpi    = np.array([247048, 68])\n",
    "Y_jpsik  = np.array([450960, 2452])\n",
    "\n",
    "# Efficiency components (n2/n1 and n1/n0) for both decays\n",
    "n2_n1_dpi    = np.array([0.0674, 0.0002])\n",
    "n1_n0_dpi    = np.array([0.1816, 0.0014])\n",
    "n2_n1_jpsik  = np.array([0.28916, 0.00019])\n",
    "n1_n0_jpsik  = np.array([0.1765, 0.0014])\n",
    "\n",
    "# PDG branching fractions for intermediate decays (external uncertainty only)\n",
    "BF_jpsi_mumu = np.array([0.05961, 0.00033])   # J/ψ → μ+ μ−\n",
    "BF_d0_kpi    = np.array([0.03945, 0.00031])   # D0 → K− π+\n",
    "\n",
    "\n",
    "# === CALCULATION ===\n",
    "\n",
    "yield_ratio = Y_dpi[0] / Y_jpsik[0]\n",
    "\n",
    "eff_dpi = n2_n1_dpi[0] * n1_n0_dpi[0]\n",
    "eff_jpsik = n2_n1_jpsik[0] * n1_n0_jpsik[0]\n",
    "eff_ratio = eff_jpsik / eff_dpi\n",
    "\n",
    "external_ratio = BF_jpsi_mumu[0] / BF_d0_kpi[0]\n",
    "\n",
    "non_external_ratio = (yield_ratio * eff_ratio)\n",
    "\n",
    "Branching_Ratio = yield_ratio * eff_ratio * external_ratio\n",
    "statistical_error = Branching_Ratio * np.sqrt( (Y_dpi[1]/Y_dpi[0])**2 + (Y_jpsik[1]/Y_jpsik[0])**2\n",
    "                                              + (n2_n1_dpi[1]/n2_n1_dpi[0])**2 + (n1_n0_dpi[1]/n1_n0_dpi[0])**2\n",
    "                                              + (n2_n1_jpsik[1]/n2_n1_jpsik[0])**2 + (n1_n0_jpsik[1]/n1_n0_jpsik[0])**2)\n",
    "\n",
    "external_error = Branching_Ratio * np.sqrt( (BF_jpsi_mumu[1]/BF_jpsi_mumu[0])**2 + (BF_d0_kpi[1]/BF_d0_kpi[0])**2 )\n",
    "\n",
    "total_error = Branching_Ratio * np.sqrt( (Y_dpi[1]/Y_dpi[0])**2 + (Y_jpsik[1]/Y_jpsik[0])**2\n",
    "                                              + (n2_n1_dpi[1]/n2_n1_dpi[0])**2 + (n1_n0_dpi[1]/n1_n0_dpi[0])**2\n",
    "                                              + (n2_n1_jpsik[1]/n2_n1_jpsik[0])**2 + (n1_n0_jpsik[1]/n1_n0_jpsik[0])**2\n",
    "                                              + (BF_jpsi_mumu[1]/BF_jpsi_mumu[0])**2 + (BF_d0_kpi[1]/BF_d0_kpi[0])**2)\n",
    "\n",
    "# === OUTPUT ===\n",
    "print(\"Branching Ratio:\", Branching_Ratio, \"±\", statistical_error, \"±\", external_error)\n",
    "#print(total_error)\n"
   ]
  },
  {
   "cell_type": "code",
   "execution_count": null,
   "id": "b19a87ab",
   "metadata": {},
   "outputs": [],
   "source": []
  }
 ],
 "metadata": {
  "kernelspec": {
   "display_name": "cern-analysis",
   "language": "python",
   "name": "python3"
  },
  "language_info": {
   "codemirror_mode": {
    "name": "ipython",
    "version": 3
   },
   "file_extension": ".py",
   "mimetype": "text/x-python",
   "name": "python",
   "nbconvert_exporter": "python",
   "pygments_lexer": "ipython3",
   "version": "3.13.5"
  }
 },
 "nbformat": 4,
 "nbformat_minor": 5
}
