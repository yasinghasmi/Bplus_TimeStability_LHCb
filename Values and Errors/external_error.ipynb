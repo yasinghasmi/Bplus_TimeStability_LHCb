{
 "cells": [
  {
   "cell_type": "code",
   "execution_count": 1,
   "id": "062787c7",
   "metadata": {},
   "outputs": [
    {
     "name": "stdout",
     "output_type": "stream",
     "text": [
      "Corrected BR ratio: 6.746\n",
      "Statistical error:  ±0.121\n",
      "External error:     ±0.072\n",
      "Correction factor:   1.513\n"
     ]
    }
   ],
   "source": [
    "from math import sqrt\n",
    "\n",
    "def compute_branching_ratio_with_external(\n",
    "    B_raw,                         # Raw BR ratio (e.g., from yield/eff)\n",
    "    B_raw_stat,                    # Statistical uncertainty on raw BR\n",
    "    B_D0_Kpi, B_D0_Kpi_err,        # D0 → K+ pi- BR and its uncertainty\n",
    "    B_Jpsi_mumu, B_Jpsi_mumu_err  # J/psi → mu+ mu- BR and its uncertainty\n",
    "):\n",
    "    # Compute correction factor\n",
    "    correction_factor = B_Jpsi_mumu / B_D0_Kpi\n",
    "\n",
    "    # Compute corrected BR ratio\n",
    "    B_ratio = B_raw * correction_factor\n",
    "\n",
    "    # Relative uncertainties (external)\n",
    "    rel_err_Jpsi = B_Jpsi_mumu_err / B_Jpsi_mumu\n",
    "    rel_err_D0 = B_D0_Kpi_err / B_D0_Kpi\n",
    "    rel_err_ext = rel_err_Jpsi + rel_err_D0\n",
    "\n",
    "    # External uncertainty\n",
    "    B_raw_ext_err = B_raw * rel_err_ext\n",
    "    B_ratio_ext_err = B_raw_ext_err * correction_factor\n",
    "\n",
    "    # Statistical uncertainty on final BR (scaled by correction factor)\n",
    "    B_ratio_stat_err = B_raw_stat * correction_factor\n",
    "\n",
    "    return {\n",
    "        \"BR_ratio\": B_ratio,\n",
    "        \"statistical_error\": B_ratio_stat_err,\n",
    "        \"external_error\": B_ratio_ext_err,\n",
    "        \"correction_factor\": correction_factor\n",
    "    }\n",
    "\n",
    "# === Example usage ===\n",
    "result = compute_branching_ratio_with_external(\n",
    "    B_raw=4.46,\n",
    "    B_raw_stat=0.08,\n",
    "    B_D0_Kpi=0.03941,\n",
    "    B_D0_Kpi_err=0.00020,\n",
    "    B_Jpsi_mumu=0.05961,\n",
    "    B_Jpsi_mumu_err=0.00033\n",
    ")\n",
    "\n",
    "print(\"Corrected BR ratio: {:.3f}\".format(result[\"BR_ratio\"]))\n",
    "print(\"Statistical error:  ±{:.3f}\".format(result[\"statistical_error\"]))\n",
    "print(\"External error:     ±{:.3f}\".format(result[\"external_error\"]))\n",
    "print(\"Correction factor:   {:.3f}\".format(result[\"correction_factor\"]))\n"
   ]
  },
  {
   "cell_type": "code",
   "execution_count": null,
   "id": "a5e7b66a",
   "metadata": {},
   "outputs": [
    {
     "name": "stdout",
     "output_type": "stream",
     "text": [
      "Yield ratio (Y_dpi / Y_jpsik): 0.714+/-0.020\n",
      "Efficiency ratio (eff_jpsik / eff_dpi): 4.4+/-1.4\n",
      "External BF ratio (BF_mumu / BF_kpi): 1.511+/-0.015\n",
      "\n",
      "Final branching fraction ratio (with all uncertainties): 4.7+/-1.5\n",
      "External error only (from BF_mumu and BF_kpi): ±0.04537\n"
     ]
    }
   ],
   "source": [
    "from uncertainties import ufloat\n",
    "\n",
    "# === INPUTS (EDITABLE) ===\n",
    "\n",
    "# Yields (with errors)\n",
    "Y_dpi = ufloat(15000, 300)         # Yield of B+ → D0 π+\n",
    "Y_jpsik = ufloat(21000, 400)       # Yield of B+ → J/ψ K+\n",
    "\n",
    "# Efficiency components (n2/n1 and n1/n0) for both decays\n",
    "n2_n1_dpi = ufloat(0.0674, 0.02)\n",
    "n1_n0_dpi = ufloat(0.1765, 0.01)\n",
    "\n",
    "n2_n1_jpsik = ufloat(0.289, 0.02)\n",
    "n1_n0_jpsik = ufloat(0.18, 0.01)\n",
    "\n",
    "# PDG branching fractions for intermediate decays (only these contribute to external error)\n",
    "BF_jpsi_mumu = ufloat(0.05961, 0.00033)     # J/ψ → μ+ μ−\n",
    "BF_d0_kpi    = ufloat(0.03945, 0.00031)     # D0 → K− π+\n",
    "\n",
    "# === CALCULATION ===\n",
    "\n",
    "# Efficiencies\n",
    "eff_dpi = n2_n1_dpi * n1_n0_dpi\n",
    "eff_jpsik = n2_n1_jpsik * n1_n0_jpsik\n",
    "\n",
    "# Yield ratio\n",
    "yield_ratio = Y_dpi / Y_jpsik\n",
    "\n",
    "# Efficiency ratio\n",
    "eff_ratio = eff_jpsik / eff_dpi\n",
    "\n",
    "# External BF ratio (this is the only source of external uncertainty)\n",
    "external_ratio = BF_jpsi_mumu / BF_d0_kpi\n",
    "\n",
    "# Central value of internal ratio (yields and efficiencies)\n",
    "internal_ratio_value = (yield_ratio.nominal_value) * (eff_ratio.nominal_value)\n",
    "\n",
    "# Final branching ratio (full with uncertainty)\n",
    "BR_ratio = yield_ratio * eff_ratio * external_ratio\n",
    "\n",
    "# External-only error calculation:\n",
    "BR_ratio_external_only = internal_ratio_value * external_ratio\n",
    "\n",
    "# === OUTPUT ===\n",
    "\n",
    "print(\"Yield ratio (Y_dpi / Y_jpsik):\", yield_ratio)\n",
    "print(\"Efficiency ratio (eff_jpsik / eff_dpi):\", eff_ratio)\n",
    "print(\"External BF ratio (BF_mumu / BF_kpi):\", external_ratio)\n",
    "print(\"\\nFinal branching fraction ratio (with all uncertainties):\", BR_ratio)\n",
    "print(\"External error only (from BF_mumu and BF_kpi): ±{:.5f}\".format(BR_ratio_external_only.std_dev)) #Maybe wrong, use quadrature\n"
   ]
  },
  {
   "cell_type": "code",
   "execution_count": 3,
   "id": "a623e5cb",
   "metadata": {},
   "outputs": [
    {
     "name": "stdout",
     "output_type": "stream",
     "text": [
      "Yield ratio (Y_dpi / Y_jpsik): 0.5478+/-0.0030\n",
      "Efficiency ratio (eff_jpsik / eff_dpi): 4.4+/-1.4\n",
      "External BF ratio (BF_mumu / BF_kpi): 1.511+/-0.015\n",
      "\n",
      "Final branching fraction ratio (with all uncertainties): 3.6+/-1.1\n",
      "External error only (from BF_mumu and BF_kpi): ±0.03479\n"
     ]
    }
   ],
   "source": [
    "from uncertainties import ufloat\n",
    "\n",
    "# === INPUTS (EDITABLE) ===\n",
    "\n",
    "# Yields (with errors)\n",
    "Y_dpi = ufloat(247048, 68)         # Yield of B+ → D0 π+\n",
    "Y_jpsik = ufloat(450960, 2452)       # Yield of B+ → J/ψ K+\n",
    "\n",
    "# Efficiency components (n2/n1 and n1/n0) for both decays\n",
    "n2_n1_dpi = ufloat(0.0674, 0.02)\n",
    "n1_n0_dpi = ufloat(0.1765, 0.01)\n",
    "\n",
    "n2_n1_jpsik = ufloat(0.289, 0.02)\n",
    "n1_n0_jpsik = ufloat(0.18, 0.01)\n",
    "\n",
    "# PDG branching fractions for intermediate decays (only these contribute to external error)\n",
    "BF_jpsi_mumu = ufloat(0.05961, 0.00033)     # J/ψ → μ+ μ−\n",
    "BF_d0_kpi    = ufloat(0.03945, 0.00031)     # D0 → K− π+\n",
    "\n",
    "# === CALCULATION ===\n",
    "\n",
    "# Efficiencies\n",
    "eff_dpi = n2_n1_dpi * n1_n0_dpi\n",
    "eff_jpsik = n2_n1_jpsik * n1_n0_jpsik\n",
    "\n",
    "# Yield ratio\n",
    "yield_ratio = Y_dpi / Y_jpsik\n",
    "\n",
    "# Efficiency ratio\n",
    "eff_ratio = eff_jpsik / eff_dpi\n",
    "\n",
    "# External BF ratio (this is the only source of external uncertainty)\n",
    "external_ratio = BF_jpsi_mumu / BF_d0_kpi\n",
    "\n",
    "# Central value of internal ratio (yields and efficiencies)\n",
    "internal_ratio_value = (yield_ratio.nominal_value) * (eff_ratio.nominal_value)\n",
    "\n",
    "# Final branching ratio (full with uncertainty)\n",
    "BR_ratio = yield_ratio * eff_ratio * external_ratio\n",
    "\n",
    "# External-only error propagation (combining uncertainties in quadrature)\n",
    "external_error = external_ratio.std_dev  # Uncertainty of the external ratio (from branching fractions)\n",
    "BR_ratio_external_only = internal_ratio_value * external_ratio.nominal_value\n",
    "\n",
    "# Combine the uncertainties from the branching fractions in quadrature\n",
    "external_uncertainty = BR_ratio_external_only * (external_error / external_ratio.nominal_value)\n",
    "\n",
    "# === OUTPUT ===\n",
    "\n",
    "print(\"Yield ratio (Y_dpi / Y_jpsik):\", yield_ratio)\n",
    "print(\"Efficiency ratio (eff_jpsik / eff_dpi):\", eff_ratio)\n",
    "print(\"External BF ratio (BF_mumu / BF_kpi):\", external_ratio)\n",
    "print(\"\\nFinal branching fraction ratio (with all uncertainties):\", BR_ratio)\n",
    "print(f\"External error only (from BF_mumu and BF_kpi): ±{external_uncertainty:.5f}\")\n"
   ]
  },
  {
   "cell_type": "code",
   "execution_count": null,
   "id": "27deec2c",
   "metadata": {},
   "outputs": [
    {
     "name": "stdout",
     "output_type": "stream",
     "text": [
      "Branching Ratio: 3.4516171636979496 ± 0.0438268676468356 ± 0.03317793070500159\n"
     ]
    }
   ],
   "source": []
  },
  {
   "cell_type": "code",
   "execution_count": null,
   "id": "ed895280",
   "metadata": {},
   "outputs": [],
   "source": []
  }
 ],
 "metadata": {
  "kernelspec": {
   "display_name": "cern-analysis",
   "language": "python",
   "name": "python3"
  },
  "language_info": {
   "codemirror_mode": {
    "name": "ipython",
    "version": 3
   },
   "file_extension": ".py",
   "mimetype": "text/x-python",
   "name": "python",
   "nbconvert_exporter": "python",
   "pygments_lexer": "ipython3",
   "version": "3.13.5"
  }
 },
 "nbformat": 4,
 "nbformat_minor": 5
}
