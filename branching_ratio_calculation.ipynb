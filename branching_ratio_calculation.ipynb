{
 "cells": [
  {
   "cell_type": "code",
   "execution_count": 1,
   "id": "5b3ab91d",
   "metadata": {},
   "outputs": [],
   "source": [
    "import numpy as np"
   ]
  },
  {
   "cell_type": "code",
   "execution_count": null,
   "id": "9108428b",
   "metadata": {},
   "outputs": [
    {
     "name": "stdout",
     "output_type": "stream",
     "text": [
      "Branching ratio for B+ -> B2OC -> B2CC: 0.2333\n"
     ]
    }
   ],
   "source": [
    "def calculate_branching_ratio(signal_yield_ratio, n2_n1_ratio_b2oc, n1_n0_ratio_b2oc, n2_n1_ratio_b2cc, n1_n0_ratio_b2cc):\n",
    "    \"\"\"\n",
    "    Calculate the branching ratio for B+ -> B2OC -> B2CC decays.\n",
    "    \n",
    "    Parameters:\n",
    "    - signal_yield_ratio: Ratio of signal yields (B+ -> B2OC) / (B+ -> B2CC)\n",
    "    - n2_n1_ratio_b2oc: Ratio of N2 to N1 for B2OC\n",
    "    - n1_n0_ratio_b2oc: Ratio of N1 to N0 for B2OC\n",
    "    - n0_n1_ratio_b2cc: Ratio of N0 to N1 for B2CC\n",
    "    \n",
    "    Returns:\n",
    "    - Branching ratio for B+ -> B2OC -> B2CC\n",
    "    \"\"\"\n",
    "    return signal_yield_ratio * n2_n1_ratio_b2oc * n1_n0_ratio_b2oc / (n2_n1_ratio_b2cc * n1_n0_ratio_b2cc)\n",
    "\n",
    "# Example usage\n",
    "signal_yield_ratio = 0.7  # Example value\n",
    "n2_n1_ratio_b2oc = 0.2  # Example value\n",
    "n1_n0_ratio_b2oc = 0.7  # Example value\n",
    "n2_n1_ratio_b2cc = 0.3  # Example value\n",
    "n1_n0_ratio_b2cc = 0.8  # Example value\n",
    "branching_ratio = calculate_branching_ratio(signal_yield_ratio, n2_n1_ratio_b2oc, n1_n0_ratio_b2oc, n2_n1_ratio_b2cc, n1_n0_ratio_b2cc)\n",
    "print(f\"Branching ratio for B+ -> B2OC -> B2CC: {branching_ratio:.4f}\")"
   ]
  },
  {
   "cell_type": "code",
   "execution_count": null,
   "id": "3112002e",
   "metadata": {},
   "outputs": [],
   "source": []
  }
 ],
 "metadata": {
  "kernelspec": {
   "display_name": "cern-analysis",
   "language": "python",
   "name": "python3"
  },
  "language_info": {
   "codemirror_mode": {
    "name": "ipython",
    "version": 3
   },
   "file_extension": ".py",
   "mimetype": "text/x-python",
   "name": "python",
   "nbconvert_exporter": "python",
   "pygments_lexer": "ipython3",
   "version": "3.13.5"
  }
 },
 "nbformat": 4,
 "nbformat_minor": 5
}
