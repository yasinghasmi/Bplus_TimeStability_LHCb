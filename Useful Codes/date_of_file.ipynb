{
 "cells": [
  {
   "cell_type": "code",
   "execution_count": 12,
   "id": "a73965e2",
   "metadata": {},
   "outputs": [],
   "source": [
    "import ROOT as r\n",
    "from datetime import datetime"
   ]
  },
  {
   "cell_type": "code",
   "execution_count": null,
   "id": "6f8bd7d6",
   "metadata": {},
   "outputs": [],
   "source": [
    "# List of files\n",
    "\n",
    "files_b2oc = ('/Users/ary/Desktop/Ramon Data/Fitted_Data_Clean_Bp_P/2024/Real/B2OC/B7/2024_B2OC_DOWN_B7_F10197.root',\n",
    "              '/Users/ary/Desktop/Ramon Data/Fitted_Data_Clean_Bp_P/2024/Real/B2OC/B7/2024_B2OC_DOWN_B7_F10199.root',\n",
    "              '/Users/ary/Desktop/Ramon Data/Fitted_Data_Clean_Bp_P/2024/Real/B2OC/B7/2024_B2OC_DOWN_B7_F10200.root',\n",
    "              '/Users/ary/Desktop/Ramon Data/Fitted_Data_Clean_Bp_P/2024/Real/B2OC/B7/2024_B2OC_DOWN_B7_F10201.root',\n",
    "              '/Users/ary/Desktop/Ramon Data/Fitted_Data_Clean_Bp_P/2024/Real/B2OC/B7/2024_B2OC_DOWN_B7_F10204.root',\n",
    "              '/Users/ary/Desktop/Ramon Data/Fitted_Data_Clean_Bp_P/2024/Real/B2OC/B7/2024_B2OC_DOWN_B7_F10206.root',\n",
    "              '/Users/ary/Desktop/Ramon Data/Fitted_Data_Clean_Bp_P/2024/Real/B2OC/B7/2024_B2OC_DOWN_B7_F10207.root',\n",
    "              '/Users/ary/Desktop/Ramon Data/Fitted_Data_Clean_Bp_P/2024/Real/B2OC/B7/2024_B2OC_DOWN_B7_F10208.root',\n",
    "              '/Users/ary/Desktop/Ramon Data/Fitted_Data_Clean_Bp_P/2024/Real/B2OC/B7/2024_B2OC_DOWN_B7_F10209.root',\n",
    "              '/Users/ary/Desktop/Ramon Data/Fitted_Data_Clean_Bp_P/2024/Real/B2OC/B7/2024_B2OC_DOWN_B7_F10210.root',\n",
    "              '/Users/ary/Desktop/Ramon Data/Fitted_Data_Clean_Bp_P/2024/Real/B2OC/B7/2024_B2OC_DOWN_B7_F10211.root',\n",
    "              '/Users/ary/Desktop/Ramon Data/Fitted_Data_Clean_Bp_P/2024/Real/B2OC/B7/2024_B2OC_DOWN_B7_F10213.root')\n",
    "\n",
    "files_b2cc = ('/Users/ary/Desktop/Ramon Data/Fitted_Data_Clean_Bp_P/2024/Real/B2CC/B7/2024_B2CC_DOWN_B7_F10197.root',\n",
    "         '/Users/ary/Desktop/Ramon Data/Fitted_Data_Clean_Bp_P/2024/Real/B2CC/B7/2024_B2CC_DOWN_B7_F10199.root',\n",
    "         '/Users/ary/Desktop/Ramon Data/Fitted_Data_Clean_Bp_P/2024/Real/B2CC/B7/2024_B2CC_DOWN_B7_F10200.root',\n",
    "         '/Users/ary/Desktop/Ramon Data/Fitted_Data_Clean_Bp_P/2024/Real/B2CC/B7/2024_B2CC_DOWN_B7_F10201.root',\n",
    "         '/Users/ary/Desktop/Ramon Data/Fitted_Data_Clean_Bp_P/2024/Real/B2CC/B7/2024_B2CC_DOWN_B7_F10204.root',\n",
    "         '/Users/ary/Desktop/Ramon Data/Fitted_Data_Clean_Bp_P/2024/Real/B2CC/B7/2024_B2CC_DOWN_B7_F10206.root',\n",
    "         '/Users/ary/Desktop/Ramon Data/Fitted_Data_Clean_Bp_P/2024/Real/B2CC/B7/2024_B2CC_DOWN_B7_F10207.root',\n",
    "         '/Users/ary/Desktop/Ramon Data/Fitted_Data_Clean_Bp_P/2024/Real/B2CC/B7/2024_B2CC_DOWN_B7_F10208.root',\n",
    "         '/Users/ary/Desktop/Ramon Data/Fitted_Data_Clean_Bp_P/2024/Real/B2CC/B7/2024_B2CC_DOWN_B7_F10209.root',\n",
    "         '/Users/ary/Desktop/Ramon Data/Fitted_Data_Clean_Bp_P/2024/Real/B2CC/B7/2024_B2CC_DOWN_B7_F10210.root',\n",
    "         '/Users/ary/Desktop/Ramon Data/Fitted_Data_Clean_Bp_P/2024/Real/B2CC/B7/2024_B2CC_DOWN_B7_F10211.root',\n",
    "         '/Users/ary/Desktop/Ramon Data/Fitted_Data_Clean_Bp_P/2024/Real/B2CC/B7/2024_B2CC_DOWN_B7_F10213.root')"
   ]
  },
  {
   "cell_type": "code",
   "execution_count": 21,
   "id": "e69b1ddf",
   "metadata": {},
   "outputs": [
    {
     "name": "stdout",
     "output_type": "stream",
     "text": [
      "Min GPSTIME: 1728177265180672.0 -> 2024-10-06 01:14:25.180672\n",
      "Max GPSTIME: 1728220617506816.0 -> 2024-10-06 13:16:57.506816\n"
     ]
    },
    {
     "name": "stderr",
     "output_type": "stream",
     "text": [
      "/var/folders/bj/49xswcz53j33f5f9m2kcyf_w0000gn/T/ipykernel_31511/3826913788.py:10: DeprecationWarning: datetime.datetime.utcfromtimestamp() is deprecated and scheduled for removal in a future version. Use timezone-aware objects to represent datetimes in UTC: datetime.datetime.fromtimestamp(timestamp, datetime.UTC).\n",
      "  min_time = datetime.utcfromtimestamp(min_gpstime / 1e6)\n",
      "/var/folders/bj/49xswcz53j33f5f9m2kcyf_w0000gn/T/ipykernel_31511/3826913788.py:11: DeprecationWarning: datetime.datetime.utcfromtimestamp() is deprecated and scheduled for removal in a future version. Use timezone-aware objects to represent datetimes in UTC: datetime.datetime.fromtimestamp(timestamp, datetime.UTC).\n",
      "  max_time = datetime.utcfromtimestamp(max_gpstime / 1e6)\n"
     ]
    },
    {
     "data": {
      "text/plain": [
       "4385480"
      ]
     },
     "execution_count": 21,
     "metadata": {},
     "output_type": "execute_result"
    }
   ],
   "source": [
    "# Load the ROOT file\n",
    "file = r.TFile.Open('/Users/ary/Desktop/Ramon Data/Fitted_Data_Clean_Bp_P/2024/Real/B2CC/B7/2024_B2CC_DOWN_B7_F10201.root')  # Replace with your actual file path\n",
    "tree = file.Get(\"ST-b2cc\")         # Replace with the actual tree name\n",
    "\n",
    "# Get min and max GPSTIME\n",
    "min_gpstime = tree.GetMinimum(\"GPSTIME\")\n",
    "max_gpstime = tree.GetMaximum(\"GPSTIME\")\n",
    "\n",
    "# Convert from microseconds since Unix epoch to datetime\n",
    "min_time = datetime.utcfromtimestamp(min_gpstime / 1e6)\n",
    "max_time = datetime.utcfromtimestamp(max_gpstime / 1e6)\n",
    "\n",
    "# Output the results\n",
    "print(\"Min GPSTIME:\", min_gpstime, \"->\", min_time)\n",
    "print(\"Max GPSTIME:\", max_gpstime, \"->\", max_time)\n",
    "\n",
    "tree.GetEntries()"
   ]
  },
  {
   "cell_type": "code",
   "execution_count": null,
   "id": "d2e7f2cd",
   "metadata": {},
   "outputs": [],
   "source": []
  }
 ],
 "metadata": {
  "kernelspec": {
   "display_name": "cern-analysis",
   "language": "python",
   "name": "python3"
  },
  "language_info": {
   "codemirror_mode": {
    "name": "ipython",
    "version": 3
   },
   "file_extension": ".py",
   "mimetype": "text/x-python",
   "name": "python",
   "nbconvert_exporter": "python",
   "pygments_lexer": "ipython3",
   "version": "3.13.5"
  }
 },
 "nbformat": 4,
 "nbformat_minor": 5
}
