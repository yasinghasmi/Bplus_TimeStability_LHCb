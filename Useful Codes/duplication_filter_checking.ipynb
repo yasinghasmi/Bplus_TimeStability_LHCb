{
 "cells": [
  {
   "cell_type": "code",
   "execution_count": 15,
   "id": "541ce3d9",
   "metadata": {},
   "outputs": [
    {
     "name": "stdout",
     "output_type": "stream",
     "text": [
      "Done\n"
     ]
    }
   ],
   "source": [
    "import ROOT as r\n",
    "from array import array\n",
    "\n",
    "print(\"Done\")"
   ]
  },
  {
   "cell_type": "code",
   "execution_count": null,
   "id": "98b9a702",
   "metadata": {},
   "outputs": [],
   "source": [
    "# === Output file and tree ===\n",
    "output_file = ROOT.TFile(\"test_duplicates.root\", \"RECREATE\")\n",
    "tree = ROOT.TTree(\"ST-b2cc\", \"Test Tree with duplicate events\")\n",
    "\n",
    "# === Buffers ===\n",
    "bp_p_buf = array('f', [0])   # Float_t\n",
    "event_buf = array('Q', [0])  # ULong64_t\n",
    "\n",
    "tree.Branch(\"Bp_P\", bp_p_buf, \"Bp_P/F\")\n",
    "tree.Branch(\"event\", event_buf, \"event/l\")\n",
    "\n",
    "# === Data to insert ===\n",
    "data = [\n",
    "    # Event 1121654010\n",
    "    (1121654010, [139387.8125, 135842.546875, 119004.640625, 111138.6875, 138274.65625]),\n",
    "\n",
    "    # Event 19726357590\n",
    "    (19726357590, [\n",
    "        127264.421875, 121160.2578125, 127050.9453125, 120945.6796875,\n",
    "        121916.0703125, 115807.109375, 121702.2890625, 115592.078125,\n",
    "        122707.90625, 122491.2265625, 117349.453125, 117132.59375\n",
    "    ])\n",
    "]\n",
    "\n",
    "# === Fill tree ===\n",
    "for event_id, bp_p_list in data:\n",
    "    for val in bp_p_list:\n",
    "        event_buf[0] = event_id\n",
    "        bp_p_buf[0] = val\n",
    "        tree.Fill()\n",
    "\n",
    "# === Write to file ===\n",
    "tree.Write()\n",
    "output_file.Close()\n",
    "\n",
    "print(\"✅ test_duplicates.root written with 17 entries.\")\n"
   ]
  },
  {
   "cell_type": "code",
   "execution_count": 24,
   "id": "b8c9e6bd",
   "metadata": {
    "scrolled": true
   },
   "outputs": [
    {
     "name": "stdout",
     "output_type": "stream",
     "text": [
      "139387.8125\n",
      "135842.546875\n",
      "119004.640625\n",
      "111138.6875\n",
      "138274.65625\n",
      "127264.421875\n",
      "121160.2578125\n",
      "127050.9453125\n",
      "120945.6796875\n",
      "121916.0703125\n",
      "115807.109375\n",
      "121702.2890625\n",
      "115592.078125\n",
      "122707.90625\n",
      "122491.2265625\n",
      "117349.453125\n"
     ]
    }
   ],
   "source": [
    "#Check some entries in some branch\n",
    "\n",
    "filename = \"test_duplicates.root\"\n",
    "file = r.TFile.Open(filename)\n",
    "tree = file.Get(\"ST-b2cc\") #or st-b2oc\n",
    "\n",
    "entries = range(0, 16)\n",
    "\n",
    "for entry in entries:\n",
    "    tree.GetEntry(entry)\n",
    "    print(tree.Bp_P)"
   ]
  },
  {
   "cell_type": "code",
   "execution_count": null,
   "id": "2381aa3d",
   "metadata": {},
   "outputs": [],
   "source": [
    "import ROOT\n",
    "from collections import defaultdict, Counter\n",
    "\n",
    "# Open the ROOT file and get the tree\n",
    "file = ROOT.TFile.Open('/Users/ary/Desktop/Ramon Data/Fitted_Data_Clean_Bp_P/2024/Real/B2CC/2024_B2CC_DOWN_B7.root')\n",
    "tree = file.Get(\"ST-b2cc\")\n",
    "\n",
    "# FILLs of interest\n",
    "fills_of_interest = {\n",
    "    10197, 10199, 10200, 10201, 10204, 10206,\n",
    "    10207, 10208, 10209, 10210, 10211, 10213\n",
    "}\n",
    "\n",
    "# Containers for event IDs per FILL\n",
    "events_by_fill = defaultdict(list)\n",
    "\n",
    "# Loop over entries\n",
    "for entry in tree:\n",
    "    fill = int(entry.FILL)\n",
    "    if fill in fills_of_interest:\n",
    "        evt = int(entry.event)\n",
    "        events_by_fill[fill].append(evt)\n",
    "\n",
    "# Analyze duplicates\n",
    "print(f\"{'FILL':>6} | {'Duplicates':>10} / {'Total':<10} | {'Fraction'}\")\n",
    "print(\"-\" * 45)\n",
    "\n",
    "for fill in sorted(events_by_fill):\n",
    "    events = events_by_fill[fill]\n",
    "    total = len(events)\n",
    "    duplicates = sum(count > 1 for count in Counter(events).values())\n",
    "    ratio = duplicates / total if total > 0 else 0\n",
    "    print(f\"{fill:>6} | {duplicates:>10} / {total:<10} | {ratio:.4f}\")\n"
   ]
  },
  {
   "cell_type": "code",
   "execution_count": null,
   "id": "a1550118",
   "metadata": {},
   "outputs": [],
   "source": []
  }
 ],
 "metadata": {
  "kernelspec": {
   "display_name": "Python 3",
   "language": "python",
   "name": "python3"
  },
  "language_info": {
   "codemirror_mode": {
    "name": "ipython",
    "version": 3
   },
   "file_extension": ".py",
   "mimetype": "text/x-python",
   "name": "python",
   "nbconvert_exporter": "python",
   "pygments_lexer": "ipython3",
   "version": "3.11.9"
  }
 },
 "nbformat": 4,
 "nbformat_minor": 5
}
