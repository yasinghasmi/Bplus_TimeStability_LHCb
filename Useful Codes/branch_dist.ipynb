{
 "cells": [
  {
   "cell_type": "code",
   "execution_count": 1,
   "id": "4d60a71e",
   "metadata": {},
   "outputs": [],
   "source": [
    "import ROOT as r"
   ]
  },
  {
   "cell_type": "code",
   "execution_count": null,
   "id": "c0311023",
   "metadata": {},
   "outputs": [],
   "source": [
    "# Enable ROOT graphics in Jupyter/SWAN\n",
    "%jsroot on\n",
    "\n",
    "# Open the ROOT file\n",
    "file = ROOT.TFile(\"00289229_00000003_1.highstats-Small-B2CC-UP.root\")\n",
    "\n",
    "# Access the tree\n",
    "tree = file.Get(\"ST-b2cc\")\n",
    "\n",
    "# Create histogram\n",
    "hist = ROOT.TH1F(\"Bp_P_hist\", \"B^{+} Momentum;Bp_P [MeV/c];Events\", 100, 0, 1e6)\n",
    "\n",
    "# Fill histogram with the Bp_P variable\n",
    "tree.Draw(\"Bp_P >> Bp_P_hist\")\n",
    "\n",
    "# Draw the histogram\n",
    "canvas = ROOT.TCanvas()\n",
    "hist.Draw()\n",
    "canvas.Draw()"
   ]
  }
 ],
 "metadata": {
  "kernelspec": {
   "display_name": "cern-analysis",
   "language": "python",
   "name": "python3"
  },
  "language_info": {
   "codemirror_mode": {
    "name": "ipython",
    "version": 3
   },
   "file_extension": ".py",
   "mimetype": "text/x-python",
   "name": "python",
   "nbconvert_exporter": "python",
   "pygments_lexer": "ipython3",
   "version": "3.13.5"
  }
 },
 "nbformat": 4,
 "nbformat_minor": 5
}
